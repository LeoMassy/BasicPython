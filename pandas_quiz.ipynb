{
 "cells": [
  {
   "attachments": {},
   "cell_type": "markdown",
   "metadata": {
    "colab_type": "text",
    "id": "XfmMtuxKYRoO"
   },
   "source": [
    "# Pandas確認課題\n",
    "\n",
    "このPandas確認問題は、データサイエンス100本ノックの問題で最低限必要な問題を抜粋したものですが、[Introduction_to_Pandas](./11_Introduction_to_Pandas.ipynb) に掲載されていない機能が必要な問題もあります。\n",
    "初めて触るライブラリを調べながら使うというのはよくある光景です。この課題では皆さんにもそれに挑戦していただきます。  \n",
    "ヒントとして検索キーワードなどを載せておくので、自力で調べながら解いてみましょう。  \n",
    "\n"
   ]
  },
  {
   "cell_type": "markdown",
   "metadata": {
    "colab_type": "text",
    "id": "9ktBdoeha1jL"
   },
   "source": [
    "## 必要モジュールのインポート\n",
    "\n",
    "この問題で使うモジュールをインポートします．"
   ]
  },
  {
   "cell_type": "code",
   "execution_count": 78,
   "metadata": {
    "colab": {},
    "colab_type": "code",
    "id": "2IhABxEEaq19"
   },
   "outputs": [],
   "source": [
    "import pandas as pd\n",
    "import numpy as np"
   ]
  },
  {
   "cell_type": "markdown",
   "metadata": {
    "colab_type": "text",
    "id": "llLJCZTEa5Rb"
   },
   "source": [
    "## データの読み込み"
   ]
  },
  {
   "cell_type": "code",
   "execution_count": 79,
   "metadata": {
    "colab": {},
    "colab_type": "code",
    "id": "uN-SvpE_a50E"
   },
   "outputs": [],
   "source": [
    "df_customer = pd.read_csv('https://raw.githubusercontent.com/The-Japan-DataScientist-Society/100knocks-preprocess/master/docker/work/data/customer.csv')\n",
    "df_product = pd.read_csv('https://raw.githubusercontent.com/The-Japan-DataScientist-Society/100knocks-preprocess/master/docker/work/data/product.csv')\n",
    "df_receipt = pd.read_csv('https://raw.githubusercontent.com/The-Japan-DataScientist-Society/100knocks-preprocess/master/docker/work/data/receipt.csv')"
   ]
  },
  {
   "cell_type": "markdown",
   "metadata": {
    "colab_type": "text",
    "id": "xm5FMZJobU3Y"
   },
   "source": [
    "---\n",
    "## 問1. 条件抽出\n",
    "> P-006: レシート明細データフレーム「df_receipt」から売上日（sales_ymd）、顧客ID（customer_id）、商品コード（product_cd）、売上数量（quantity）、売上金額（amount）の順に列を指定し、以下の条件を満たすデータを抽出せよ。\n",
    "> - 顧客ID（customer_id）が\"CS018205000001\"\n",
    "> - 売上金額（amount）が1,000以上または売上数量（quantity）が5以上"
   ]
  },
  {
   "cell_type": "code",
   "execution_count": 80,
   "metadata": {
    "colab": {
     "base_uri": "https://localhost:8080/",
     "height": 198
    },
    "colab_type": "code",
    "id": "KSOu6AWabVaD",
    "outputId": "91faaad5-57ca-4a67-c046-195afa4d21df"
   },
   "outputs": [
    {
     "name": "stdout",
     "output_type": "stream",
     "text": [
      "   sales_ymd     customer_id  product_cd  quantity  amount\n",
      "0   20180911  CS018205000001  P071401012         1    2200\n",
      "1   20180414  CS018205000001  P060104007         6     600\n",
      "2   20170614  CS018205000001  P050206001         5     990\n",
      "3   20190226  CS018205000001  P071401020         1    2200\n",
      "4   20180911  CS018205000001  P071401005         1    1100\n"
     ]
    }
   ],
   "source": [
    "import pandas as pd\n",
    "\n",
    "# データの読み込み\n",
    "df_receipt = pd.read_csv('https://raw.githubusercontent.com/The-Japan-DataScientist-Society/100knocks-preprocess/master/docker/work/data/receipt.csv')\n",
    "\n",
    "# 条件を満たすデータの抽出\n",
    "filtered_df = df_receipt[\n",
    "    (df_receipt['customer_id'] == 'CS018205000001') & \n",
    "    ((df_receipt['amount'] >= 1000) | (df_receipt['quantity'] >= 5))\n",
    "]\n",
    "\n",
    "# 必要な列の指定\n",
    "result_df = filtered_df[['sales_ymd', 'customer_id', 'product_cd', 'quantity', 'amount']]\n",
    "\n",
    "# インデックス番号の追加\n",
    "result_df.reset_index(drop=True, inplace=True)\n",
    "\n",
    "\n",
    "# 結果の表示\n",
    "print(result_df)\n"
   ]
  },
  {
   "cell_type": "markdown",
   "metadata": {
    "colab_type": "text",
    "id": "7WsKq3Voj0LF"
   },
   "source": [
    "---\n",
    "## 問2. ソート\n",
    "> P-18: 顧客データフレーム（df_customer）を生年月日（birth_day）で若い順にソートし、先頭5件を全項目表示せよ。"
   ]
  },
  {
   "cell_type": "code",
   "execution_count": 81,
   "metadata": {
    "colab": {
     "base_uri": "https://localhost:8080/",
     "height": 694
    },
    "colab_type": "code",
    "id": "uLdYmXgdjxaw",
    "outputId": "7a064e8c-4db3-4350-a212-688cb9b49980"
   },
   "outputs": [
    {
     "name": "stdout",
     "output_type": "stream",
     "text": [
      "      customer_id customer_name  gender_cd gender   birth_day  age postal_cd  \\\n",
      "0  CS035114000004         大村 美里          1     女性  2007-11-25   11  156-0053   \n",
      "1  CS022103000002        福山 はじめ          9     不明  2007-10-02   11  249-0006   \n",
      "2  CS002113000009        柴田 真悠子          1     女性  2007-09-17   11  184-0014   \n",
      "3  CS004115000014         松井 京子          1     女性  2007-08-09   11  165-0031   \n",
      "4  CS002114000010          山内 遥          1     女性  2007-06-03   11  184-0015   \n",
      "\n",
      "                 address application_store_cd application_date     status_cd  \n",
      "0     東京都世田谷区桜**********               S13035         20150619  6-20091205-6  \n",
      "1    神奈川県逗子市逗子**********               S14022         20160909  0-00000000-0  \n",
      "2  東京都小金井市貫井南町**********               S13002         20160304  0-00000000-0  \n",
      "3    東京都中野区上鷺宮**********               S13004         20161120  1-20081231-1  \n",
      "4  東京都小金井市貫井北町**********               S13002         20160920  6-20100510-1  \n"
     ]
    }
   ],
   "source": [
    "import pandas as pd\n",
    "\n",
    "# データの読み込み\n",
    "df_customer = pd.read_csv('https://raw.githubusercontent.com/The-Japan-DataScientist-Society/100knocks-preprocess/master/docker/work/data/customer.csv')\n",
    "# データフレームを作成\n",
    "df_customer = pd.DataFrame(data)\n",
    "# 生年月日で若い順にソート\n",
    "df_customer_sorted = df_customer.sort_values(by='birth_day', ascending=False)\n",
    "\n",
    "# 先頭5件を全項目表示\n",
    "print(df_customer_sorted.head(5))\n"
   ]
  },
  {
   "cell_type": "markdown",
   "metadata": {
    "colab_type": "text",
    "id": "1lRGtDSphhyQ"
   },
   "source": [
    "---\n",
    "## 問3. 全件数\n",
    "> P-021: レシート明細データフレーム（df_receipt）に対し、件数をカウントせよ。"
   ]
  },
  {
   "cell_type": "code",
   "execution_count": 82,
   "metadata": {
    "colab": {
     "base_uri": "https://localhost:8080/",
     "height": 35
    },
    "colab_type": "code",
    "id": "m-ihL_fVhhyQ",
    "outputId": "da0669b7-2c34-4dc6-becb-4da002103202"
   },
   "outputs": [
    {
     "name": "stdout",
     "output_type": "stream",
     "text": [
      "データフレームの件数: 104681\n"
     ]
    }
   ],
   "source": [
    "import pandas as pd\n",
    "\n",
    "# データフレームの読み込み\n",
    "df_receipt = pd.read_csv('https://raw.githubusercontent.com/The-Japan-DataScientist-Society/100knocks-preprocess/master/docker/work/data/receipt.csv')\n",
    "\n",
    "# 全体の件数をカウント\n",
    "total_count = df_receipt.shape[0]\n",
    "\n",
    "print(f\"データフレームの件数: {total_count}\")\n",
    "\n"
   ]
  },
  {
   "cell_type": "markdown",
   "metadata": {
    "colab_type": "text",
    "id": "MkjDW-oyhhyS"
   },
   "source": [
    "## 問4. ユニーク件数\n",
    "> P-022: レシート明細データフレーム（df_receipt）の顧客ID（customer_id）に対し、ユニーク件数をカウントせよ。"
   ]
  },
  {
   "cell_type": "code",
   "execution_count": 83,
   "metadata": {
    "colab": {
     "base_uri": "https://localhost:8080/",
     "height": 35
    },
    "colab_type": "code",
    "id": "0xSI9r8UhhyS",
    "outputId": "0c5a57f4-2088-4109-a40e-eb76c4845af0"
   },
   "outputs": [
    {
     "name": "stdout",
     "output_type": "stream",
     "text": [
      "ユニークな顧客IDの件数: 8307\n"
     ]
    }
   ],
   "source": [
    "import pandas as pd\n",
    "\n",
    "# データフレームの読み込み\n",
    "df_receipt = pd.read_csv('https://raw.githubusercontent.com/The-Japan-DataScientist-Society/100knocks-preprocess/master/docker/work/data/receipt.csv')\n",
    "\n",
    "# 顧客IDのユニークな件数をカウント\n",
    "unique_customer_count = df_receipt['customer_id'].nunique()\n",
    "\n",
    "print(f\"ユニークな顧客IDの件数: {unique_customer_count}\")\n",
    "\n"
   ]
  },
  {
   "attachments": {},
   "cell_type": "markdown",
   "metadata": {},
   "source": [
    "<details>\n",
    "<summary>ヒント</summary>\n",
    "「ユニーク」というのはそのまま検索に使える単語です。  \n",
    "</details>"
   ]
  },
  {
   "cell_type": "markdown",
   "metadata": {
    "colab_type": "text",
    "id": "h9E9b_yUhhyq"
   },
   "source": [
    "---\n",
    "## 問5. 〇〇ごとに集計\n",
    "> P-035: レシート明細データフレーム（df_receipt）に対し、顧客ID（customer_id）ごとに売上金額（amount）を合計して全顧客の平均を求め、平均以上に買い物をしている顧客を抽出せよ。ただし、顧客IDが\"Z\"から始まるのものは非会員を表すため、除外して計算すること。なお、データは先頭5件だけ表示せよ。\n",
    "\n",
    "会員のみを抽出する方法は、例えば以下の2通りの方法があります。"
   ]
  },
  {
   "cell_type": "code",
   "execution_count": 84,
   "metadata": {},
   "outputs": [],
   "source": [
    "df_receipt_only_member = df_receipt[~df_receipt[\"customer_id\"].str.startswith(\"Z\")]\n",
    "df_receipt_only_member = df_receipt.query(\"not customer_id.str.startswith('Z')\", engine=\"python\")"
   ]
  },
  {
   "cell_type": "code",
   "execution_count": 85,
   "metadata": {},
   "outputs": [
    {
     "name": "stdout",
     "output_type": "stream",
     "text": [
      "customer_id\n",
      "CS001115000010    3044\n",
      "CS001205000006    3337\n",
      "CS001214000009    4685\n",
      "CS001214000017    4132\n",
      "CS001214000052    5639\n",
      "Name: amount, dtype: int64\n"
     ]
    }
   ],
   "source": [
    "import pandas as pd\n",
    "\n",
    "\n",
    "# データの読み込み\n",
    "df_receipt = pd.read_csv('https://raw.githubusercontent.com/The-Japan-DataScientist-Society/100knocks-preprocess/master/docker/work/data/receipt.csv')\n",
    "\n",
    "# 非会員を除外\n",
    "df_receipt_only_member = df_receipt.query(\"not customer_id.str.startswith('Z')\", engine=\"python\")\n",
    "\n",
    "# 顧客IDごとに売上金額を合計\n",
    "customer_amount_sum = df_receipt_only_member.groupby('customer_id')['amount'].sum()\n",
    "\n",
    "# 全顧客の平均売上金額を計算\n",
    "average_amount = customer_amount_sum.mean()\n",
    "\n",
    "# 平均以上に買い物をしている顧客を抽出\n",
    "customers_above_average = customer_amount_sum[customer_amount_sum >= average_amount]\n",
    "\n",
    "# 先頭5件を表示\n",
    "print(customers_above_average.head(5))\n"
   ]
  },
  {
   "attachments": {},
   "cell_type": "markdown",
   "metadata": {},
   "source": [
    "<details>\n",
    "<summary>ヒント1</summary>\n",
    "「pandas 要素ごと 集計」 などで今回使える機能に関する記事が見つかります。\n",
    "</details>"
   ]
  },
  {
   "attachments": {},
   "cell_type": "markdown",
   "metadata": {},
   "source": [
    "<details>\n",
    "<summary>ヒント2</summary>\n",
    "メソッド名は \"groupby\" です。\n",
    "</details>"
   ]
  },
  {
   "cell_type": "markdown",
   "metadata": {
    "colab_type": "text",
    "id": "iNO7ESvWhhyw"
   },
   "source": [
    "---\n",
    "## 問6. DataFrameの結合\n",
    "> P-038: 顧客データフレーム（df_customer）とレシート明細データフレーム（df_receipt）から、各顧客ごとの売上金額合計を求めよ。ただし、買い物の実績がない顧客については売上金額を0として表示させること。また、顧客は性別コード（gender_cd）が女性（1）であるものを対象とし、非会員（顧客IDが'Z'から始まるもの）は除外すること。なお、結果は先頭5件だけ表示せよ。"
   ]
  },
  {
   "cell_type": "code",
   "execution_count": 86,
   "metadata": {},
   "outputs": [],
   "source": [
    "df_customer_only_member = df_customer[~df_customer[\"customer_id\"].str.startswith(\"Z\")]\n",
    "df_customer_only_member = df_customer.query(\"not customer_id.str.startswith('Z')\", engine=\"python\")"
   ]
  },
  {
   "cell_type": "code",
   "execution_count": 87,
   "metadata": {},
   "outputs": [
    {
     "name": "stdout",
     "output_type": "stream",
     "text": [
      "      customer_id  amount\n",
      "0  CS021313000114     0.0\n",
      "1  CS031415000172  5088.0\n",
      "2  CS028811000001     0.0\n",
      "3  CS001215000145   875.0\n",
      "4  CS015414000103  3122.0\n"
     ]
    },
    {
     "name": "stderr",
     "output_type": "stream",
     "text": [
      "/var/folders/g0/b8t31pt105q3qwtp75xv0srr0000gn/T/ipykernel_5755/4249959191.py:17: FutureWarning: A value is trying to be set on a copy of a DataFrame or Series through chained assignment using an inplace method.\n",
      "The behavior will change in pandas 3.0. This inplace method will never work because the intermediate object on which we are setting values always behaves as a copy.\n",
      "\n",
      "For example, when doing 'df[col].method(value, inplace=True)', try using 'df.method({col: value}, inplace=True)' or df[col] = df[col].method(value) instead, to perform the operation inplace on the original object.\n",
      "\n",
      "\n",
      "  df_customer_sales['amount'].fillna(0, inplace=True)\n"
     ]
    }
   ],
   "source": [
    "import pandas as pd\n",
    "\n",
    "# データフレームの読み込み\n",
    "df_customer = pd.read_csv('https://raw.githubusercontent.com/The-Japan-DataScientist-Society/100knocks-preprocess/master/docker/work/data/customer.csv')\n",
    "df_receipt = pd.read_csv('https://raw.githubusercontent.com/The-Japan-DataScientist-Society/100knocks-preprocess/master/docker/work/data/receipt.csv')\n",
    "\n",
    "# 女性の顧客を対象とし、非会員（顧客IDが 'Z' から始まるもの）を除外\n",
    "df_female_customers = df_customer[(df_customer['gender_cd'] == 1) & (~df_customer['customer_id'].str.startswith('Z'))]\n",
    "\n",
    "# レシート明細の顧客IDと売上金額を集計\n",
    "df_sales = df_receipt.groupby('customer_id')['amount'].sum().reset_index()\n",
    "\n",
    "# 顧客IDが買い物の実績がない顧客については売上金額を0とするために左結合\n",
    "df_customer_sales = pd.merge(df_female_customers[['customer_id']], df_sales, on='customer_id', how='left')\n",
    "\n",
    "# 売上金額がNaNの顧客は0に置き換える\n",
    "df_customer_sales['amount'].fillna(0, inplace=True)\n",
    "\n",
    "# 結果を表示（先頭5件）\n",
    "print(df_customer_sales.head())\n"
   ]
  },
  {
   "attachments": {},
   "cell_type": "markdown",
   "metadata": {},
   "source": [
    "<details>\n",
    "<summary>ヒント1</summary>\n",
    "タイトル通り 「pandas DataFrame 結合」などと調べれば必要な機能に関する記事が見つかります。  \n",
    "</details>\n"
   ]
  },
  {
   "attachments": {},
   "cell_type": "markdown",
   "metadata": {},
   "source": [
    "<details>\n",
    "<summary>ヒント2</summary>\n",
    "\"merge\", \"join\"という似たメソッドがあります。  \n",
    "今回の場合\"merge\"が便利でしょう。\n",
    "</details>"
   ]
  },
  {
   "cell_type": "markdown",
   "metadata": {
    "colab_type": "text",
    "id": "umDmd8kohhzA"
   },
   "source": [
    "---\n",
    "## 問7. 時系列データ\n",
    "> P-046: 顧客データフレーム（df_customer）の申し込み日（application_date）はYYYYMMD形式の文字列型でデータを保有している。これを日付型（dateやdatetime）に変換し、顧客ID（customer_id）とともに抽出せよ。なお、データは先頭5件を表示せよ。"
   ]
  },
  {
   "cell_type": "code",
   "execution_count": 88,
   "metadata": {},
   "outputs": [
    {
     "name": "stdout",
     "output_type": "stream",
     "text": [
      "      customer_id application_date\n",
      "0  CS021313000114       2015-09-05\n",
      "1  CS037613000071       2015-04-14\n",
      "2  CS031415000172       2015-05-29\n",
      "3  CS028811000001       2016-01-15\n",
      "4  CS001215000145       2017-06-05\n"
     ]
    }
   ],
   "source": [
    "import pandas as pd\n",
    "\n",
    "# データフレームの読み込み\n",
    "df_customer = pd.read_csv('https://raw.githubusercontent.com/The-Japan-DataScientist-Society/100knocks-preprocess/master/docker/work/data/customer.csv')\n",
    "\n",
    "# application_date 列を日付型に変換\n",
    "df_customer['application_date'] = pd.to_datetime(df_customer['application_date'], format='%Y%m%d')\n",
    "\n",
    "# 顧客IDと申し込み日を抽出\n",
    "df_result = df_customer[['customer_id', 'application_date']]\n",
    "\n",
    "# 結果を表示（先頭5件）\n",
    "print(df_result.head())\n"
   ]
  },
  {
   "attachments": {},
   "cell_type": "markdown",
   "metadata": {},
   "source": [
    "<details>\n",
    "<summary>ヒント1</summary>\n",
    "「pandas datetime」などで該当の機能が見つかるかと思います。\n",
    "</details>\n"
   ]
  },
  {
   "attachments": {},
   "cell_type": "markdown",
   "metadata": {},
   "source": [
    "<details>\n",
    "<summary>ヒント2</summary>\n",
    "\"pd.to_datetime\"というメソッドが使えるでしょう。このメソッドを適用する際ですが、for文を使わずに実装しましょう。"
   ]
  },
  {
   "cell_type": "markdown",
   "metadata": {
    "colab_type": "text",
    "id": "9v_q6BLjhhzU"
   },
   "source": [
    "---\n",
    "## 問8. 関数\n",
    "> P-061: レシート明細データフレーム（df_receipt）の売上金額（amount）を顧客ID（customer_id）ごとに合計し、合計した売上金額を常用対数化（底=10）して顧客ID、売上金額合計とともに表示せよ。ただし、顧客IDが\"Z\"から始まるのものは非会員を表すため、除外して計算すること。なお、結果は先頭5件を表示せよ。"
   ]
  },
  {
   "cell_type": "code",
   "execution_count": 89,
   "metadata": {},
   "outputs": [
    {
     "name": "stdout",
     "output_type": "stream",
     "text": [
      "      customer_id  amount  log_amount\n",
      "0  CS001113000004    1298    3.113275\n",
      "1  CS001114000005     626    2.796574\n",
      "2  CS001115000010    3044    3.483445\n",
      "3  CS001205000004    1988    3.298416\n",
      "4  CS001205000006    3337    3.523356\n"
     ]
    }
   ],
   "source": [
    "import pandas as pd\n",
    "import numpy as np\n",
    "\n",
    "# データフレームの読み込み\n",
    "df_receipt = pd.read_csv('https://raw.githubusercontent.com/The-Japan-DataScientist-Society/100knocks-preprocess/master/docker/work/data/receipt.csv')\n",
    "\n",
    "# 顧客IDが \"Z\" から始まるものを除外\n",
    "df_filtered = df_receipt[~df_receipt['customer_id'].str.startswith('Z')]\n",
    "\n",
    "# 顧客IDごとに売上金額を合計\n",
    "df_sum = df_filtered.groupby('customer_id')['amount'].sum().reset_index()\n",
    "\n",
    "# 合計売上金額の常用対数を計算\n",
    "df_sum['log_amount'] = np.log10(df_sum['amount'])\n",
    "\n",
    "# 結果を表示（先頭5件）\n",
    "print(df_sum.head())\n"
   ]
  },
  {
   "cell_type": "markdown",
   "metadata": {
    "colab_type": "text",
    "id": "boe923CMhhzq"
   },
   "source": [
    "---\n",
    "## 問9. 欠損数\n",
    "> P-079: 商品データフレーム（df_product）の各項目に対し、欠損数を確認せよ。"
   ]
  },
  {
   "cell_type": "code",
   "execution_count": 90,
   "metadata": {
    "colab": {
     "base_uri": "https://localhost:8080/",
     "height": 169
    },
    "colab_type": "code",
    "id": "bxl__vC5hhzq",
    "outputId": "d8bb408a-6897-4e5a-8416-ce67a8a5fce4"
   },
   "outputs": [
    {
     "name": "stdout",
     "output_type": "stream",
     "text": [
      "各項目の欠損値の数:\n",
      "product_cd            0\n",
      "category_major_cd     0\n",
      "category_medium_cd    0\n",
      "category_small_cd     0\n",
      "unit_price            7\n",
      "unit_cost             7\n",
      "dtype: int64\n"
     ]
    }
   ],
   "source": [
    "import pandas as pd\n",
    "# データフレームの読み込み\n",
    "df_product = pd.read_csv('https://raw.githubusercontent.com/The-Japan-DataScientist-Society/100knocks-preprocess/master/docker/work/data/product.csv')\n",
    "\n",
    "# 各項目の欠損値の数を確認\n",
    "missing_counts = df_product.isnull().sum()\n",
    "\n",
    "print(\"各項目の欠損値の数:\")\n",
    "print(missing_counts)\n"
   ]
  },
  {
   "cell_type": "markdown",
   "metadata": {
    "colab_type": "text",
    "id": "afprSqIvhhzs"
   },
   "source": [
    "---\n",
    "## 問10. 欠損値の除去\n",
    "> P-080: 商品データフレーム（df_product）のいずれかの項目に欠損が発生しているレコードを全て削除した新たなdf_product_1を作成せよ。なお、削除前後の件数を表示させ、前設問で確認した件数だけ減少していることも確認すること。"
   ]
  },
  {
   "cell_type": "code",
   "execution_count": 91,
   "metadata": {},
   "outputs": [
    {
     "name": "stdout",
     "output_type": "stream",
     "text": [
      "削除前の件数: 10030\n",
      "削除後の件数: 10023\n",
      "削除されたレコード数: 7\n"
     ]
    }
   ],
   "source": [
    "import pandas as pd\n",
    "\n",
    "# データフレームの読み込み\n",
    "df_product = pd.read_csv('https://raw.githubusercontent.com/The-Japan-DataScientist-Society/100knocks-preprocess/master/docker/work/data/product.csv')\n",
    "\n",
    "# 削除前の件数を表示\n",
    "count_before = df_product.shape[0]\n",
    "print(f\"削除前の件数: {count_before}\")\n",
    "\n",
    "# 欠損値を含むレコードを削除\n",
    "df_product_1 = df_product.dropna()\n",
    "\n",
    "# 削除後の件数を表示\n",
    "count_after = df_product_1.shape[0]\n",
    "print(f\"削除後の件数: {count_after}\")\n",
    "\n",
    "# 削除前後の件数の差を確認\n",
    "deleted_count = count_before - count_after\n",
    "print(f\"削除されたレコード数: {deleted_count}\")\n"
   ]
  },
  {
   "cell_type": "code",
   "execution_count": 92,
   "metadata": {
    "colab": {},
    "colab_type": "code",
    "id": "qFNnYstw1vTG"
   },
   "outputs": [
    {
     "data": {
      "text/plain": [
       "(10030, 10023)"
      ]
     },
     "execution_count": 92,
     "metadata": {},
     "output_type": "execute_result"
    }
   ],
   "source": [
    "len(df_product), len(df_product_1)"
   ]
  },
  {
   "cell_type": "markdown",
   "metadata": {
    "colab_type": "text",
    "id": "GtiO20ZKhhzu"
   },
   "source": [
    "---\n",
    "## 問11. 欠損値の穴埋め\n",
    "> P-081: 単価（unit_price）と原価（unit_cost）の欠損値について、それぞれの平均値で補完した新たなdf_product_2を作成せよ。なお、平均値について1円未満は四捨五入とせよ。補完実施後、各項目について欠損が生じていないことも確認すること。"
   ]
  },
  {
   "cell_type": "code",
   "execution_count": 94,
   "metadata": {
    "colab": {},
    "colab_type": "code",
    "id": "puFf-7Ewhhzu"
   },
   "outputs": [
    {
     "name": "stdout",
     "output_type": "stream",
     "text": [
      "product_cd            0\n",
      "category_major_cd     0\n",
      "category_medium_cd    0\n",
      "category_small_cd     0\n",
      "unit_price            0\n",
      "unit_cost             0\n",
      "dtype: int64\n",
      "   product_cd  category_major_cd  category_medium_cd  category_small_cd  \\\n",
      "0  P040101001                  4                 401              40101   \n",
      "1  P040101002                  4                 401              40101   \n",
      "2  P040101003                  4                 401              40101   \n",
      "3  P040101004                  4                 401              40101   \n",
      "4  P040101005                  4                 401              40101   \n",
      "\n",
      "   unit_price  unit_cost  \n",
      "0       198.0      149.0  \n",
      "1       218.0      164.0  \n",
      "2       230.0      173.0  \n",
      "3       248.0      186.0  \n",
      "4       268.0      201.0  \n"
     ]
    },
    {
     "name": "stderr",
     "output_type": "stream",
     "text": [
      "/var/folders/g0/b8t31pt105q3qwtp75xv0srr0000gn/T/ipykernel_5755/3548470689.py:12: FutureWarning: A value is trying to be set on a copy of a DataFrame or Series through chained assignment using an inplace method.\n",
      "The behavior will change in pandas 3.0. This inplace method will never work because the intermediate object on which we are setting values always behaves as a copy.\n",
      "\n",
      "For example, when doing 'df[col].method(value, inplace=True)', try using 'df.method({col: value}, inplace=True)' or df[col] = df[col].method(value) instead, to perform the operation inplace on the original object.\n",
      "\n",
      "\n",
      "  df_product_2['unit_price'].fillna(average_unit_price, inplace=True)\n",
      "/var/folders/g0/b8t31pt105q3qwtp75xv0srr0000gn/T/ipykernel_5755/3548470689.py:13: FutureWarning: A value is trying to be set on a copy of a DataFrame or Series through chained assignment using an inplace method.\n",
      "The behavior will change in pandas 3.0. This inplace method will never work because the intermediate object on which we are setting values always behaves as a copy.\n",
      "\n",
      "For example, when doing 'df[col].method(value, inplace=True)', try using 'df.method({col: value}, inplace=True)' or df[col] = df[col].method(value) instead, to perform the operation inplace on the original object.\n",
      "\n",
      "\n",
      "  df_product_2['unit_cost'].fillna(average_unit_cost, inplace=True)\n"
     ]
    }
   ],
   "source": [
    "import pandas as pd\n",
    "\n",
    "# データフレームの読み込み\n",
    "df_product = pd.read_csv('https://raw.githubusercontent.com/The-Japan-DataScientist-Society/100knocks-preprocess/master/docker/work/data/product.csv')\n",
    "\n",
    "# 単価と原価の平均値を計算し、1円未満を四捨五入\n",
    "average_unit_price = round(df_product['unit_price'].mean())\n",
    "average_unit_cost = round(df_product['unit_cost'].mean())\n",
    "\n",
    "# 欠損値を平均値で補完\n",
    "df_product_2 = df_product.copy()\n",
    "df_product_2['unit_price'].fillna(average_unit_price, inplace=True)\n",
    "df_product_2['unit_cost'].fillna(average_unit_cost, inplace=True)\n",
    "\n",
    "# 各項目について欠損が生じていないことを確認\n",
    "print(df_product_2.isnull().sum())\n",
    "\n",
    "# 結果の表示（確認のため先頭5件を表示）\n",
    "print(df_product_2.head())\n"
   ]
  },
  {
   "attachments": {},
   "cell_type": "markdown",
   "metadata": {},
   "source": [
    "### 余談\n",
    "ChatGPTやBing AIに聞けば大抵のことは教えてくれます。  \n",
    "何回か入力文章を吟味しないといけないこともありますが、知らないことを調べる場合は自分で検索するよりも早いです。  \n",
    "ただ、ChatGPTなどは嘘をつく場合があるので、自分でソースを参照する姿勢は必要です。  \n",
    "\n",
    "これはBingAIの回答例です。  \n",
    "\n",
    "![BingAIの回答例](./imgs/pandas/BingAI.png)"
   ]
  }
 ],
 "metadata": {
  "colab": {
   "name": "pandas_quiz.ipynb",
   "provenance": []
  },
  "kernelspec": {
   "display_name": "Python 3",
   "language": "python",
   "name": "python3"
  },
  "language_info": {
   "codemirror_mode": {
    "name": "ipython",
    "version": 3
   },
   "file_extension": ".py",
   "mimetype": "text/x-python",
   "name": "python",
   "nbconvert_exporter": "python",
   "pygments_lexer": "ipython3",
   "version": "3.10.4"
  }
 },
 "nbformat": 4,
 "nbformat_minor": 4
}
