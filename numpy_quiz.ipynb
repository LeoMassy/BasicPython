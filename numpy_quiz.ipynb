{
 "cells": [
  {
   "cell_type": "markdown",
   "metadata": {},
   "source": [
    "# Numpyの確認課題"
   ]
  },
  {
   "cell_type": "markdown",
   "metadata": {},
   "source": [
    "## 必要モジュールのインポート\n",
    "\n",
    "この問題で使うモジュールをインポートします．"
   ]
  },
  {
   "cell_type": "code",
   "execution_count": 10,
   "metadata": {},
   "outputs": [],
   "source": [
    "import matplotlib.pyplot as plt\n",
    "import numpy as np\n",
    "np.random.seed(0)"
   ]
  },
  {
   "cell_type": "markdown",
   "metadata": {},
   "source": [
    "---"
   ]
  },
  {
   "cell_type": "markdown",
   "metadata": {},
   "source": [
    "### 問1. `ndarray`の生成\n",
    "\n",
    "以下の2つの`ndarray`を定義しなさい．\n",
    "- 観測値 `x`: 初項`0`，末項`5`，項数`100`の等差数列\n",
    "- ノイズ `noise`: 標準正規分布に従う`100`個の乱数"
   ]
  },
  {
   "cell_type": "code",
   "execution_count": null,
   "metadata": {},
   "outputs": [],
   "source": [
    "\n",
    "\n",
    "import matplotlib.pyplot as plt\n",
    "import numpy as np\n",
    "\n",
    "# 再現性のために乱数シードを設定\n",
    "np.random.seed(0)\n",
    "\n",
    "# 観測値 x を初項 0, 末項 5, 項数 100 の等差数列として生成\n",
    "x = np.linspace(0, 5, 100)\n",
    "\n",
    "# ノイズを標準正規分布に従う 100 個の乱数として生成\n",
    "noise = np.random.randn(100)\n",
    "\n",
    "# 真の関数 t にノイズを加える\n",
    "t = 3 + 2 * x + x**2 + noise  # 3 + 2x + x^2 + ノイズ\n",
    "\n",
    "# 行列 X を作成\n",
    "X = np.vstack([np.ones(x.shape[0]), x, x**2]).T\n",
    "\n",
    "# パラメータベクトル w を最小二乗法で求める\n",
    "w = np.linalg.inv(X.T @ X) @ X.T @ t\n",
    "\n",
    "# 求めたパラメータを表示\n",
    "print(f'w0, w1, w2 = {w[0]}, {w[1]}, {w[2]}')\n",
    "\n",
    "# 予測値を計算\n",
    "pred_y = w[0] + w[1] * x + w[2] * x**2\n",
    "\n",
    "# 結果を表示\n",
    "plt.scatter(x, t, label='data', alpha=0.6)\n",
    "plt.plot(x, pred_y, linewidth=2, color='red', label='pred')\n",
    "plt.plot(x, 3 + 2 * x + x**2, linewidth=2, color='green', linestyle='dashed', label='true')\n",
    "plt.legend()\n",
    "plt.xlabel('X')\n",
    "plt.ylabel('y')\n",
    "plt.title('Least Squares Fit of Quadratic Function')\n",
    "plt.show()\n"
   ]
  },
  {
   "cell_type": "markdown",
   "metadata": {},
   "source": [
    "---"
   ]
  },
  {
   "cell_type": "markdown",
   "metadata": {},
   "source": [
    "ここで，真の関数 $y(x) = 3 - 5x + x^2$ を定義します．"
   ]
  },
  {
   "cell_type": "code",
   "execution_count": null,
   "metadata": {},
   "outputs": [],
   "source": [
    "import matplotlib.pyplot as plt\n",
    "import numpy as np\n",
    "\n",
    "# 再現性のために乱数シードを設定\n",
    "np.random.seed(0)\n",
    "\n",
    "# 観測値 x を初項 0, 末項 5, 項数 100 の等差数列として生成\n",
    "x = np.linspace(0, 5, 100)\n",
    "\n",
    "# ノイズを標準正規分布に従う 100 個の乱数として生成\n",
    "noise = np.random.randn(100)\n",
    "\n",
    "# 真の関数 y(x) = 3 - 5x + x^2 にノイズを加える\n",
    "t = 3 - 5 * x + x**2 + noise  # 3 - 5x + x^2 + ノイズ\n",
    "\n",
    "# 行列 X を作成\n",
    "X = np.vstack([np.ones(x.shape[0]), x, x**2]).T\n",
    "\n",
    "# パラメータベクトル w を最小二乗法で求める\n",
    "w = np.linalg.inv(X.T @ X) @ X.T @ t\n",
    "\n",
    "# 求めたパラメータを表示\n",
    "print(f'w0, w1, w2 = {w[0]}, {w[1]}, {w[2]}')\n",
    "\n",
    "# 予測値を計算\n",
    "pred_y = w[0] + w[1] * x + w[2] * x**2\n",
    "\n",
    "# 結果を表示\n",
    "plt.scatter(x, t, label='data', alpha=0.6)\n",
    "plt.plot(x, pred_y, linewidth=2, color='red', label='pred')\n",
    "plt.plot(x, 3 - 5 * x + x**2, linewidth=2, color='green', linestyle='dashed', label='true')\n",
    "plt.legend()\n",
    "plt.xlabel('X')\n",
    "plt.ylabel('y')\n",
    "plt.title('Least Squares Fit of Quadratic Function')\n",
    "plt.show()\n"
   ]
  },
  {
   "cell_type": "markdown",
   "metadata": {},
   "source": [
    "### 問2． `ndarray`の操作\n",
    "\n",
    "問1で生成した観測値 `x` に対応する目標値 `t` を定義しなさい．\n",
    "\n",
    "目標値 $t$ は， $t = y(x) + \\epsilon$ と表されます．  ( $y$: 真の関数, $\\epsilon$: ノイズ )  \n",
    "実際の観測値にはどうしてもノイズ(観測誤差)が発生してしまいます．今回は，それを`noise`で再現します．\n",
    "\n",
    "問1で観測値を100個生成したので，それぞれに対応する目標値も100個作成する必要がありますが， `for` 文は絶対使ってはいけません．"
   ]
  },
  {
   "cell_type": "code",
   "execution_count": null,
   "metadata": {},
   "outputs": [],
   "source": [
    "import numpy as np\n",
    "\n",
    "# 再現性のために乱数シードを設定\n",
    "np.random.seed(0)\n",
    "\n",
    "# 観測値 x を初項 0, 末項 5, 項数 100 の等差数列として生成\n",
    "x = np.linspace(0, 5, 100)\n",
    "\n",
    "# ノイズを標準正規分布に従う 100 個の乱数として生成\n",
    "noise = np.random.randn(100)\n",
    "\n",
    "# 真の関数 y(x) = 3 - 5x + x^2\n",
    "y = 3 - 5 * x + x**2\n",
    "\n",
    "# 目標値 t は真の関数 y にノイズを加えたもの\n",
    "t = y + noise\n",
    "\n",
    "# 結果を表示\n",
    "print(t)\n"
   ]
  },
  {
   "cell_type": "markdown",
   "metadata": {},
   "source": [
    "matplotlib で可視化すると以下のようなグラフになります．\n",
    "scatter → 散布図"
   ]
  },
  {
   "cell_type": "code",
   "execution_count": null,
   "metadata": {},
   "outputs": [],
   "source": [
    "plt.scatter(x, t)"
   ]
  },
  {
   "cell_type": "markdown",
   "metadata": {},
   "source": [
    "---"
   ]
  },
  {
   "cell_type": "markdown",
   "metadata": {},
   "source": [
    "### 問3. `ndarray`の結合\n",
    "\n",
    "\n",
    "\\end{array}以下の3つの`ndarray`を垂直方向に結合した2次元配列を転置した行列 `X` を定義しなさい．\n",
    "\n",
    "- x0: 長さが `x` と同じで要素が全て1の`ndarray`\n",
    "- x1: 観測値 `x` の各要素を1乗した`ndarray`\n",
    "- x2: 観測値 `x` の各要素を2乗した`ndarray`\n",
    "\n",
    "例： $x = (1, 2, 3)$ のとき，\n",
    "\n",
    "$$\n",
    "x_0 = (1, 1, 1)\\\\\n",
    "x_1 = (1, 2, 3)\\\\\n",
    "x_2 = (1, 4, 9)\n",
    "$$\n",
    "\n",
    "だから，\n",
    "\n",
    "$$\n",
    "X = \\left(\n",
    "\\begin{array}{ccc}\n",
    "    1 & 1 & 1 \\\\\n",
    "    1 & 2 & 3 \\\\\n",
    "    1 & 4 & 9\n",
    "\\right)^T\n",
    "= \\left(\n",
    "\\begin{array}{ccc}\n",
    "    1 & 1 & 1 \\\\\n",
    "    1 & 2 & 4 \\\\\n",
    "    1 & 3 & 9\n",
    "\\end{array}\n",
    "\\right)\n",
    "$$\n",
    "\n",
    "ちなみに，機械学習では `X` のような行列を計画行列と呼びます．"
   ]
  },
  {
   "cell_type": "code",
   "execution_count": null,
   "metadata": {},
   "outputs": [],
   "source": [
    "import numpy as np\n",
    "\n",
    "# 再現性のために乱数シードを設定\n",
    "np.random.seed(0)\n",
    "\n",
    "# 観測値 x を初項 0, 末項 5, 項数 100 の等差数列として生成\n",
    "x = np.linspace(0, 5, 100)\n",
    "\n",
    "# ノイズを標準正規分布に従う 100 個の乱数として生成\n",
    "noise = np.random.randn(100)\n",
    "\n",
    "# 真の関数 y(x) = 3 - 5x + x^2\n",
    "y = 3 - 5 * x + x**2\n",
    "\n",
    "# 目標値 t は真の関数 y にノイズを加えたもの\n",
    "t = y + noise\n",
    "\n",
    "# x0: 長さが x と同じで要素が全て1の ndarray\n",
    "x0 = np.ones_like(x)\n",
    "\n",
    "# x1: 観測値 x の各要素を1乗した ndarray\n",
    "x1 = x\n",
    "\n",
    "# x2: 観測値 x の各要素を2乗した ndarray\n",
    "x2 = x**2\n",
    "\n",
    "# 3つの ndarray を垂直方向に結合し転置\n",
    "X = np.vstack([x0, x1, x2]).T\n",
    "\n",
    "# 結果を表示\n",
    "print(X)\n"
   ]
  },
  {
   "cell_type": "code",
   "execution_count": null,
   "metadata": {},
   "outputs": [],
   "source": [
    "import numpy as np\n",
    "import matplotlib.pyplot as plt\n",
    "\n",
    "# 観測値Xと真の関数t\n",
    "x = np.array([1, 2, 3, 4, 5])\n",
    "t = np.array([2.3, 2.9, 3.2, 5.1, 7.3])\n",
    "\n",
    "# 行列Xを作成\n",
    "X = np.vstack([np.ones(x.shape[0]), x, x**2]).T\n",
    "\n",
    "# パラメータベクトルwを最小二乗法で求める\n",
    "w = np.linalg.inv(X.T @ X) @ X.T @ t\n",
    "\n",
    "# 求めたパラメータを表示\n",
    "print(f'w0, w1, w2 = {w[0]}, {w[1]}, {w[2]}')\n",
    "\n",
    "# 予測値を計算\n",
    "pred_y = w[0] + w[1] * x + w[2] * x**2\n",
    "\n",
    "# 結果を表示\n",
    "plt.scatter(x, t, label='data')\n",
    "plt.plot(x, pred_y, linewidth=5, color='red', label='pred')\n",
    "plt.plot(x, w[0] + w[1] * x + w[2] * x**2, linewidth=5, color='green', label='true')\n",
    "plt.legend()\n",
    "plt.show()\n"
   ]
  },
  {
   "cell_type": "markdown",
   "metadata": {},
   "source": [
    "---"
   ]
  }
 ],
 "metadata": {
  "kernelspec": {
   "display_name": "Python 3",
   "language": "python",
   "name": "python3"
  },
  "language_info": {
   "codemirror_mode": {
    "name": "ipython",
    "version": 3
   },
   "file_extension": ".py",
   "mimetype": "text/x-python",
   "name": "python",
   "nbconvert_exporter": "python",
   "pygments_lexer": "ipython3",
   "version": "3.10.4"
  }
 },
 "nbformat": 4,
 "nbformat_minor": 4
}
